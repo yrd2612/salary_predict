{
 "cells": [
  {
   "cell_type": "markdown",
   "id": "53292ee3",
   "metadata": {},
   "source": [
    "Salary vs years of experiance"
   ]
  },
  {
   "cell_type": "code",
   "execution_count": 21,
   "id": "6d2a1b42",
   "metadata": {},
   "outputs": [],
   "source": [
    "import numpy as np\n",
    "import matplotlib.pyplot as plt"
   ]
  },
  {
   "cell_type": "code",
   "execution_count": 23,
   "id": "cbeb5f20",
   "metadata": {},
   "outputs": [],
   "source": [
    "import pandas as pd\n",
    "from sympy import Symbol, Derivative\n"
   ]
  },
  {
   "cell_type": "code",
   "execution_count": 3,
   "id": "1b8151a8",
   "metadata": {},
   "outputs": [],
   "source": [
    "data = pd.read_csv('Salary_Data.csv')"
   ]
  },
  {
   "cell_type": "code",
   "execution_count": 4,
   "id": "42d362d9",
   "metadata": {},
   "outputs": [
    {
     "name": "stdout",
     "output_type": "stream",
     "text": [
      "    YearsExperience    Salary\n",
      "0               1.1   39343.0\n",
      "1               1.3   46205.0\n",
      "2               1.5   37731.0\n",
      "3               2.0   43525.0\n",
      "4               2.2   39891.0\n",
      "5               2.9   56642.0\n",
      "6               3.0   60150.0\n",
      "7               3.2   54445.0\n",
      "8               3.2   64445.0\n",
      "9               3.7   57189.0\n",
      "10              3.9   63218.0\n",
      "11              4.0   55794.0\n",
      "12              4.0   56957.0\n",
      "13              4.1   57081.0\n",
      "14              4.5   61111.0\n",
      "15              4.9   67938.0\n",
      "16              5.1   66029.0\n",
      "17              5.3   83088.0\n",
      "18              5.9   81363.0\n",
      "19              6.0   93940.0\n",
      "20              6.8   91738.0\n",
      "21              7.1   98273.0\n",
      "22              7.9  101302.0\n",
      "23              8.2  113812.0\n",
      "24              8.7  109431.0\n",
      "25              9.0  105582.0\n",
      "26              9.5  116969.0\n",
      "27              9.6  112635.0\n",
      "28             10.3  122391.0\n",
      "29             10.5  121872.0\n"
     ]
    }
   ],
   "source": [
    "print(data)"
   ]
  },
  {
   "cell_type": "code",
   "execution_count": 5,
   "id": "88c5fed2",
   "metadata": {},
   "outputs": [],
   "source": [
    "X = data[\"YearsExperience\"]\n",
    "y = data[\"Salary\"]"
   ]
  },
  {
   "cell_type": "code",
   "execution_count": 6,
   "id": "5cb1102f",
   "metadata": {},
   "outputs": [],
   "source": [
    "x_train = X.to_numpy()\n",
    "y_train = y.to_numpy()"
   ]
  },
  {
   "cell_type": "code",
   "execution_count": 7,
   "id": "7d120094",
   "metadata": {},
   "outputs": [
    {
     "name": "stdout",
     "output_type": "stream",
     "text": [
      "[ 1.1  1.3  1.5  2.   2.2  2.9  3.   3.2  3.2  3.7  3.9  4.   4.   4.1\n",
      "  4.5  4.9  5.1  5.3  5.9  6.   6.8  7.1  7.9  8.2  8.7  9.   9.5  9.6\n",
      " 10.3 10.5]\n",
      "[ 39343.  46205.  37731.  43525.  39891.  56642.  60150.  54445.  64445.\n",
      "  57189.  63218.  55794.  56957.  57081.  61111.  67938.  66029.  83088.\n",
      "  81363.  93940.  91738.  98273. 101302. 113812. 109431. 105582. 116969.\n",
      " 112635. 122391. 121872.]\n"
     ]
    }
   ],
   "source": [
    "print(x_train)\n",
    "print(y_train)"
   ]
  },
  {
   "cell_type": "code",
   "execution_count": 8,
   "id": "e0bde0f4",
   "metadata": {},
   "outputs": [
    {
     "name": "stdout",
     "output_type": "stream",
     "text": [
      "(30,)\n",
      "(30,)\n"
     ]
    }
   ],
   "source": [
    "print(x_train.shape)\n",
    "print(y_train.shape)"
   ]
  },
  {
   "cell_type": "code",
   "execution_count": 9,
   "id": "a944eca1",
   "metadata": {},
   "outputs": [],
   "source": [
    "def compute_cost(x,y,w,b):\n",
    "    m = x.shape[0]\n",
    "    cost = 0\n",
    "    for i in range(m):\n",
    "        fwb_i = (np.dot(w,x[i]) + b)\n",
    "        cost = cost + (fwb_i - y[i])**2\n",
    "    cost = cost/(2*m)\n",
    "    return cost"
   ]
  },
  {
   "cell_type": "code",
   "execution_count": 24,
   "id": "ec935a48",
   "metadata": {},
   "outputs": [],
   "source": [
    "def compute_gradient(x,y,w,b):\n",
    "    m = x.shape[0]\n",
    "    dj_dw = 0\n",
    "    dj_db = 0\n",
    "    for i in range(m):\n",
    "        err = ((np.dot(X[i], w) + b) - y[i])\n",
    "        # finding a new type of error\n",
    "        \n",
    "        #err = ((np.dot(X[i], w) + b) - y[i])/m\n",
    "        dj_dw_i = err*x[i]\n",
    "        dj_dw += dj_dw_i\n",
    "        dj_db = err + dj_db\n",
    "        #print('dj_db is : ',dj_db,' dj_dw is : ',dj_dw, ' error is : ',err)\n",
    "    dj_dw = dj_dw/m\n",
    "    dj_db = dj_db/m\n",
    "    return dj_db,dj_dw"
   ]
  },
  {
   "cell_type": "code",
   "execution_count": 18,
   "id": "a713c03d",
   "metadata": {},
   "outputs": [],
   "source": [
    "def gradient_descent(x,y,w,b):\n",
    "    j_history =[]\n",
    "    alpha = 0.005\n",
    "    for i in range(1000):\n",
    "        dj_db,dj_dw = compute_gradient(x,y,w,b)\n",
    "        w = w - alpha*dj_dw\n",
    "        b = b - alpha*dj_db\n",
    "        j_history.append(compute_cost(x,y,w,b))\n",
    "    return w,b,j_history"
   ]
  },
  {
   "cell_type": "code",
   "execution_count": 19,
   "id": "3b1f9621",
   "metadata": {},
   "outputs": [
    {
     "name": "stdout",
     "output_type": "stream",
     "text": [
      "b,w found by gradient descent: 17509.42,10679.092548162129 \n"
     ]
    }
   ],
   "source": [
    "w_in = 2\n",
    "b_in = 1\n",
    "w_final,b_final,j_history = gradient_descent(x_train,y_train,w_in,b_in)\n",
    "print(f\"b,w found by gradient descent: {b_final:0.2f},{w_final} \")\n"
   ]
  },
  {
   "cell_type": "markdown",
   "id": "660459b7",
   "metadata": {},
   "source": [
    "final result"
   ]
  },
  {
   "cell_type": "code",
   "execution_count": 38,
   "id": "d452af6d",
   "metadata": {},
   "outputs": [],
   "source": [
    "# m = x_train.shape[0]\n",
    "# pred = []\n",
    "# for i in range(m):\n",
    "#     print(f\"prediction: {np.dot(x_train[i], w_final) + b_final:0.2f}, target value: {y_train[i]}\")\n",
    "#     pred.append(np.dot(x_train[i], w_final) + b_final)\n",
    "\n",
    "    "
   ]
  },
  {
   "cell_type": "code",
   "execution_count": null,
   "id": "ed0a6a3e",
   "metadata": {},
   "outputs": [],
   "source": [
    "def actual():\n",
    "    m = x.shape[0]\n",
    "    for i in range(m):\n",
    "        y = y_train[i]\n",
    "        y_act.append(y)"
   ]
  },
  {
   "cell_type": "code",
   "execution_count": 40,
   "id": "de1c6ce3",
   "metadata": {},
   "outputs": [],
   "source": [
    "def predict(x):\n",
    "    print('prediction is :',w_final*x + b_final)\n",
    "    \n",
    "    \n",
    "    "
   ]
  },
  {
   "cell_type": "code",
   "execution_count": 41,
   "id": "247ed1bf",
   "metadata": {},
   "outputs": [
    {
     "name": "stdout",
     "output_type": "stream",
     "text": [
      "5.5\n",
      "prediction is : 76244.4268468421\n"
     ]
    }
   ],
   "source": [
    "x = float(input())\n",
    "prediction = predict(x)\n",
    "#print(prediction)"
   ]
  },
  {
   "cell_type": "code",
   "execution_count": null,
   "id": "6ed3fd96",
   "metadata": {},
   "outputs": [],
   "source": []
  }
 ],
 "metadata": {
  "kernelspec": {
   "display_name": "Python 3 (ipykernel)",
   "language": "python",
   "name": "python3"
  },
  "language_info": {
   "codemirror_mode": {
    "name": "ipython",
    "version": 3
   },
   "file_extension": ".py",
   "mimetype": "text/x-python",
   "name": "python",
   "nbconvert_exporter": "python",
   "pygments_lexer": "ipython3",
   "version": "3.10.6"
  }
 },
 "nbformat": 4,
 "nbformat_minor": 5
}
